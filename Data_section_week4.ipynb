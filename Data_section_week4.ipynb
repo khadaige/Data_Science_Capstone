{
 "cells": [
  {
   "cell_type": "markdown",
   "metadata": {},
   "source": [
    "# THE BATTLE OF NEIGHBORHOODS part 2"
   ]
  },
  {
   "cell_type": "markdown",
   "metadata": {},
   "source": [
    "## Introduction\n",
    "\n",
    "Austin is a city located in Texas. With a 2020 population of 988,218, it is the 4th largest city in Texas. Austin is one of  the fastest growing city in the United States  and  its demographics show that it is a large and ethnically diverse metropolis.  There are different type of  restaurants in Austin City like African, Chinese, Indian, French etc.\n",
    "In a city like Austin,  if  we want to open a restaurant  an international restaurant (mixed of  African, Asian and European foods),  where would be our best location  to  open it? \n",
    "\n"
   ]
  },
  {
   "cell_type": "markdown",
   "metadata": {},
   "source": [
    "## For this project we need the following data\n",
    "\n",
    " 1. Austin data that contains list Boroughs, Neighborhoods along with their latitude and longitude. \n",
    " 2. African, Europoens and Asian resturants in each neighborhood of Austin. \n",
    " 3. Its geographical coordinates(latitide and longitude) to find our where exactly it is located. \n",
    " 4. Average income of neighborhood to know how much is the restaurant worth. "
   ]
  },
  {
   "cell_type": "markdown",
   "metadata": {},
   "source": [
    "## Questions that will be answers at the end of this project \n",
    "\n",
    "1. What are best location in Austin? \n",
    "2. Which part of the city are most diverse, where can we find African, Indians, French, Asian restaurant, considering the competitor factors  where will be our best option to open the restaurant. \n",
    "3.what is the population target audience, we will need to know the  income, ethnicity, age of the  neighborhoods  around where we want to open the restaurant.\n",
    "3.  Which areas have potential   to open the restaurant and are safe too? \n"
   ]
  },
  {
   "cell_type": "markdown",
   "metadata": {},
   "source": [
    "## Methodology\n",
    "\n",
    "  1. We begin by collecting Austin data from \"https://data.austintexas.gov\". \n",
    "  2. We will find all venues for each neighborhood using FourSquare API. \n",
    "  3. Find the type of  restaurant predominant in the neighborhood.\n",
    "  4. We will then filter out all Africans, Indian, French Restuarant venues. \n",
    "  5. Next using FourSquare API, we will find the Ratings, Tips, and Like count for all the Indian Resturants. \n",
    "  6. Finally, we will visualize the Ranking of neighborhoods using python  libraries"
   ]
  }
 ],
 "metadata": {
  "kernelspec": {
   "display_name": "Python 3.6",
   "language": "python",
   "name": "python3"
  },
  "language_info": {
   "codemirror_mode": {
    "name": "ipython",
    "version": 3
   },
   "file_extension": ".py",
   "mimetype": "text/x-python",
   "name": "python",
   "nbconvert_exporter": "python",
   "pygments_lexer": "ipython3",
   "version": "3.6.9"
  }
 },
 "nbformat": 4,
 "nbformat_minor": 1
}
