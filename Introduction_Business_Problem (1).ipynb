{
 "cells": [
  {
   "cell_type": "markdown",
   "metadata": {},
   "source": [
    "# Introduction/Business Problem"
   ]
  },
  {
   "cell_type": "markdown",
   "metadata": {},
   "source": [
    "# The battle of Neighborhoods \n"
   ]
  },
  {
   "cell_type": "markdown",
   "metadata": {},
   "source": [
    "# What is the best location to start a  restaurant in Austin Texas"
   ]
  },
  {
   "cell_type": "markdown",
   "metadata": {
    "collapsed": true
   },
   "source": [
    "Plenty of entrepreneurs have made their fortunes in  restaurant business. However, restaurants can be a tough business, a lack of demand causes many restaurants to close within the first year of opening. \n",
    "There are many different factors that can account for a restaurant’s success such as location, competition, type and quality of the food especially  in an area like Austin Texas. This is an important question that every business owner must face when choosing whether to open a restaurant or not, as well as location of the business.\n",
    "\n",
    "To demonstrate the process of picking a location for the restaurant, the project will focus on answering \n",
    "the following question: \n",
    "\n",
    "What type of restaurant can we open in a city like Austin? For example if we want to  open an international restaurant with a mixed of  African, Asian and European food, we will have to choose a place where the population is very diverse and open mind.\n",
    "\n",
    "What areas are the best options to open that type of  restaurant? The location and competition are both determined by where the restaurant is opened.\n",
    "\n",
    "How many \"similar\" restaurants are available in that area?\n",
    "\n",
    "Is the area safe to open a restaurant? Costumer want a safe environment while enjoying  their food.\n",
    "\n",
    "How restaurants are doing in that particular  location,  is the demand very high? Are  others restaurant doing well. How many restaurants fail within one year and close their business? Knowing the failure rate of restaurants will be very helpful for the business.\n",
    "What type of feedback costumers are giving? Whatever we do, be clear about your concept, is very important, In any major city, Austin included, people are looking for specialty offerings, the best of the best in the food. What people are looking for when they eat outside for example and things they don’t like to see in a restaurant can help for choosing a good concept for a restaurant and  make some innovations  to attract more costumers."
   ]
  },
  {
   "cell_type": "code",
   "execution_count": null,
   "metadata": {},
   "outputs": [],
   "source": []
  }
 ],
 "metadata": {
  "kernelspec": {
   "display_name": "Python 3.6",
   "language": "python",
   "name": "python3"
  },
  "language_info": {
   "codemirror_mode": {
    "name": "ipython",
    "version": 3
   },
   "file_extension": ".py",
   "mimetype": "text/x-python",
   "name": "python",
   "nbconvert_exporter": "python",
   "pygments_lexer": "ipython3",
   "version": "3.6.9"
  }
 },
 "nbformat": 4,
 "nbformat_minor": 1
}
